{
 "cells": [
  {
   "cell_type": "markdown",
   "metadata": {},
   "source": [
    "# ADMISSION POSSIBILITY PROJECT"
   ]
  },
  {
   "cell_type": "markdown",
   "metadata": {},
   "source": [
    "### Title of the project\n",
    "\n",
    "Predicting the admission possibility\n",
    "\n",
    "### Aim of the project \n",
    "\n",
    "To build a machine learning model to predict whether the admission of the student is possible or not in the university. \n",
    "\n",
    "### Prerequisites to complete the project(If you don't know the stuffs mentioned here please try to learn before diving into project)\n",
    "\n",
    "- Numpy, Matplotlib\n",
    "- Scikit Learn\n",
    "- Supervised Learning\n",
    "- Logistic Regression Algorithm, Linear Regression Algorithm\n",
    "\n",
    "### Project Description In Detail\n",
    "\n",
    "The main aim of this project is to get familiar with how to create a ML model using scikit learn library. Using the following [dataset](https://www.kaggle.com/mohansacharya/graduate-admissions) create a Machine Learning model to predict whether the possibility of students can be admitted to an university or not.\n",
    "Apply the standard ML techniques of preprocessing, cleaning of dataset if required. Your code must have some visualizations also.\n",
    "\n"
   ]
  },
  {
   "cell_type": "markdown",
   "metadata": {},
   "source": [
    "# Using K nearest neighbours algorithm \n"
   ]
  },
  {
   "cell_type": "code",
   "execution_count": 1,
   "metadata": {},
   "outputs": [],
   "source": [
    "#first we import some useful libraries\n",
    "import numpy as np \n",
    "import pandas as pd\n",
    "from matplotlib import pyplot as plt\n",
    "from sklearn import metrics\n",
    "from sklearn.neighbors import KNeighborsRegressor\n",
    "from sklearn.model_selection import train_test_split\n"
   ]
  },
  {
   "cell_type": "code",
   "execution_count": 2,
   "metadata": {},
   "outputs": [
    {
     "data": {
      "text/html": [
       "<div>\n",
       "<style scoped>\n",
       "    .dataframe tbody tr th:only-of-type {\n",
       "        vertical-align: middle;\n",
       "    }\n",
       "\n",
       "    .dataframe tbody tr th {\n",
       "        vertical-align: top;\n",
       "    }\n",
       "\n",
       "    .dataframe thead th {\n",
       "        text-align: right;\n",
       "    }\n",
       "</style>\n",
       "<table border=\"1\" class=\"dataframe\">\n",
       "  <thead>\n",
       "    <tr style=\"text-align: right;\">\n",
       "      <th></th>\n",
       "      <th>Serial No.</th>\n",
       "      <th>GRE Score</th>\n",
       "      <th>TOEFL Score</th>\n",
       "      <th>University Rating</th>\n",
       "      <th>SOP</th>\n",
       "      <th>LOR</th>\n",
       "      <th>CGPA</th>\n",
       "      <th>Research</th>\n",
       "      <th>Chance of Admit</th>\n",
       "    </tr>\n",
       "  </thead>\n",
       "  <tbody>\n",
       "    <tr>\n",
       "      <td>0</td>\n",
       "      <td>1</td>\n",
       "      <td>337</td>\n",
       "      <td>118</td>\n",
       "      <td>4</td>\n",
       "      <td>4.5</td>\n",
       "      <td>4.5</td>\n",
       "      <td>9.65</td>\n",
       "      <td>1</td>\n",
       "      <td>0.92</td>\n",
       "    </tr>\n",
       "    <tr>\n",
       "      <td>1</td>\n",
       "      <td>2</td>\n",
       "      <td>324</td>\n",
       "      <td>107</td>\n",
       "      <td>4</td>\n",
       "      <td>4.0</td>\n",
       "      <td>4.5</td>\n",
       "      <td>8.87</td>\n",
       "      <td>1</td>\n",
       "      <td>0.76</td>\n",
       "    </tr>\n",
       "    <tr>\n",
       "      <td>2</td>\n",
       "      <td>3</td>\n",
       "      <td>316</td>\n",
       "      <td>104</td>\n",
       "      <td>3</td>\n",
       "      <td>3.0</td>\n",
       "      <td>3.5</td>\n",
       "      <td>8.00</td>\n",
       "      <td>1</td>\n",
       "      <td>0.72</td>\n",
       "    </tr>\n",
       "    <tr>\n",
       "      <td>3</td>\n",
       "      <td>4</td>\n",
       "      <td>322</td>\n",
       "      <td>110</td>\n",
       "      <td>3</td>\n",
       "      <td>3.5</td>\n",
       "      <td>2.5</td>\n",
       "      <td>8.67</td>\n",
       "      <td>1</td>\n",
       "      <td>0.80</td>\n",
       "    </tr>\n",
       "    <tr>\n",
       "      <td>4</td>\n",
       "      <td>5</td>\n",
       "      <td>314</td>\n",
       "      <td>103</td>\n",
       "      <td>2</td>\n",
       "      <td>2.0</td>\n",
       "      <td>3.0</td>\n",
       "      <td>8.21</td>\n",
       "      <td>0</td>\n",
       "      <td>0.65</td>\n",
       "    </tr>\n",
       "  </tbody>\n",
       "</table>\n",
       "</div>"
      ],
      "text/plain": [
       "   Serial No.  GRE Score  TOEFL Score  University Rating  SOP  LOR   CGPA  \\\n",
       "0           1        337          118                  4  4.5   4.5  9.65   \n",
       "1           2        324          107                  4  4.0   4.5  8.87   \n",
       "2           3        316          104                  3  3.0   3.5  8.00   \n",
       "3           4        322          110                  3  3.5   2.5  8.67   \n",
       "4           5        314          103                  2  2.0   3.0  8.21   \n",
       "\n",
       "   Research  Chance of Admit   \n",
       "0         1              0.92  \n",
       "1         1              0.76  \n",
       "2         1              0.72  \n",
       "3         1              0.80  \n",
       "4         0              0.65  "
      ]
     },
     "execution_count": 2,
     "metadata": {},
     "output_type": "execute_result"
    }
   ],
   "source": [
    "data = pd.read_csv('Admission_Predict.csv')\n",
    "# print data\n",
    "data.head(5)"
   ]
  },
  {
   "cell_type": "markdown",
   "metadata": {},
   "source": [
    "### spliting data into predictor and response variables i.e. x and y according to me the factors which affects chances of a student admission in university is based on its GRE Score,TOEFL Score,CGPA and Research done or not and output is chances of admit so we seperate this in x and y"
   ]
  },
  {
   "cell_type": "code",
   "execution_count": 3,
   "metadata": {},
   "outputs": [
    {
     "name": "stdout",
     "output_type": "stream",
     "text": [
      "X :  [[337.   118.     9.65   1.  ]\n",
      " [324.   107.     8.87   1.  ]\n",
      " [316.   104.     8.     1.  ]\n",
      " ...\n",
      " [330.   116.     9.45   1.  ]\n",
      " [312.   103.     8.78   0.  ]\n",
      " [333.   117.     9.66   1.  ]]\n",
      "Y :  [0.92 0.76 0.72 0.8  0.65 0.9  0.75 0.68 0.5  0.45 0.52 0.84 0.78 0.62\n",
      " 0.61 0.54 0.66 0.65 0.63 0.62 0.64 0.7  0.94 0.95 0.97 0.94 0.76 0.44\n",
      " 0.46 0.54 0.65 0.74 0.91 0.9  0.94 0.88 0.64 0.58 0.52 0.48 0.46 0.49\n",
      " 0.53 0.87 0.91 0.88 0.86 0.89 0.82 0.78 0.76 0.56 0.78 0.72 0.7  0.64\n",
      " 0.64 0.46 0.36 0.42 0.48 0.47 0.54 0.56 0.52 0.55 0.61 0.57 0.68 0.78\n",
      " 0.94 0.96 0.93 0.84 0.74 0.72 0.74 0.64 0.44 0.46 0.5  0.96 0.92 0.92\n",
      " 0.94 0.76 0.72 0.66 0.64 0.74 0.64 0.38 0.34 0.44 0.36 0.42 0.48 0.86\n",
      " 0.9  0.79 0.71 0.64 0.62 0.57 0.74 0.69 0.87 0.91 0.93 0.68 0.61 0.69\n",
      " 0.62 0.72 0.59 0.66 0.56 0.45 0.47 0.71 0.94 0.94 0.57 0.61 0.57 0.64\n",
      " 0.85 0.78 0.84 0.92 0.96 0.77 0.71 0.79 0.89 0.82 0.76 0.71 0.8  0.78\n",
      " 0.84 0.9  0.92 0.97 0.8  0.81 0.75 0.83 0.96 0.79 0.93 0.94 0.86 0.79\n",
      " 0.8  0.77 0.7  0.65 0.61 0.52 0.57 0.53 0.67 0.68 0.81 0.78 0.65 0.64\n",
      " 0.64 0.65 0.68 0.89 0.86 0.89 0.87 0.85 0.9  0.82 0.72 0.73 0.71 0.71\n",
      " 0.68 0.75 0.72 0.89 0.84 0.93 0.93 0.88 0.9  0.87 0.86 0.94 0.77 0.78\n",
      " 0.73 0.73 0.7  0.72 0.73 0.72 0.97 0.97 0.69 0.57 0.63 0.66 0.64 0.68\n",
      " 0.79 0.82 0.95 0.96 0.94 0.93 0.91 0.85 0.84 0.74 0.76 0.75 0.76 0.71\n",
      " 0.67 0.61 0.63 0.64 0.71 0.82 0.73 0.74 0.69 0.64 0.91 0.88 0.85 0.86\n",
      " 0.7  0.59 0.6  0.65 0.7  0.76 0.63 0.81 0.72 0.71 0.8  0.77 0.74 0.7\n",
      " 0.71 0.93 0.85 0.79 0.76 0.78 0.77 0.9  0.87 0.71 0.7  0.7  0.75 0.71\n",
      " 0.72 0.73 0.83 0.77 0.72 0.54 0.49 0.52 0.58 0.78 0.89 0.7  0.66 0.67\n",
      " 0.68 0.8  0.81 0.8  0.94 0.93 0.92 0.89 0.82 0.79 0.58 0.56 0.56 0.64\n",
      " 0.61 0.68 0.76 0.86 0.9  0.71 0.62 0.66 0.65 0.73 0.62 0.74 0.79 0.8\n",
      " 0.69 0.7  0.76 0.84 0.78 0.67 0.66 0.65 0.54 0.58 0.79 0.8  0.75 0.73\n",
      " 0.72 0.62 0.67 0.81 0.63 0.69 0.8  0.43 0.8  0.73 0.75 0.71 0.73 0.83\n",
      " 0.72 0.94 0.81 0.81 0.75 0.79 0.58 0.59 0.47 0.49 0.47 0.42 0.57 0.62\n",
      " 0.74 0.73 0.64 0.63 0.59 0.73 0.79 0.68 0.7  0.81 0.85 0.93 0.91 0.69\n",
      " 0.77 0.86 0.74 0.57 0.51 0.67 0.72 0.89 0.95 0.79 0.39 0.38 0.34 0.47\n",
      " 0.56 0.71 0.78 0.73 0.82 0.62 0.96 0.96 0.46 0.53 0.49 0.76 0.64 0.71\n",
      " 0.84 0.77 0.89 0.82 0.84 0.91 0.67 0.95]\n"
     ]
    }
   ],
   "source": [
    "data.columns = data.columns.str.strip()\n",
    "x = data[['GRE Score','TOEFL Score','CGPA','Research']].values\n",
    "y = data['Chance of Admit'].values\n",
    "print(\"X : \",x)\n",
    "print(\"Y : \",y)"
   ]
  },
  {
   "cell_type": "markdown",
   "metadata": {},
   "source": [
    "### printing size of x and y"
   ]
  },
  {
   "cell_type": "code",
   "execution_count": 10,
   "metadata": {},
   "outputs": [
    {
     "name": "stdout",
     "output_type": "stream",
     "text": [
      "x.shape  : (400, 4)\n",
      "y.shape  : (400,)\n"
     ]
    }
   ],
   "source": [
    "print(\"x.shape  :\",x.shape )\n",
    "print(\"y.shape  :\",y.shape )"
   ]
  },
  {
   "cell_type": "markdown",
   "metadata": {},
   "source": [
    "### creating knn model"
   ]
  },
  {
   "cell_type": "code",
   "execution_count": 11,
   "metadata": {},
   "outputs": [],
   "source": [
    "knn = KNeighborsRegressor(n_neighbors = 50 ,weights = 'uniform' )"
   ]
  },
  {
   "cell_type": "markdown",
   "metadata": {},
   "source": [
    " ### spliting data into training and testing data basically we split data into two part train data and testing data train data is used to train our model and test data is used to test accuracy of our model"
   ]
  },
  {
   "cell_type": "code",
   "execution_count": 12,
   "metadata": {},
   "outputs": [],
   "source": [
    "x_train,x_test,y_train,y_test = train_test_split(x,y,test_size = 0.2) "
   ]
  },
  {
   "cell_type": "code",
   "execution_count": 18,
   "metadata": {},
   "outputs": [],
   "source": [
    "x_train_mod = x_train.reshape(-1,1)\n",
    "x_test_mod = x_test.reshape(-1,1)\n",
    "y_train_mod = y_train.reshape(-1,1)\n",
    "y_test_mod = y_test.reshape(-1,1)"
   ]
  },
  {
   "cell_type": "markdown",
   "metadata": {},
   "source": [
    "### fitting data into model"
   ]
  },
  {
   "cell_type": "code",
   "execution_count": 19,
   "metadata": {},
   "outputs": [
    {
     "data": {
      "text/plain": [
       "KNeighborsRegressor(algorithm='auto', leaf_size=30, metric='minkowski',\n",
       "                    metric_params=None, n_jobs=None, n_neighbors=50, p=2,\n",
       "                    weights='uniform')"
      ]
     },
     "execution_count": 19,
     "metadata": {},
     "output_type": "execute_result"
    }
   ],
   "source": [
    "knn.fit(x_train,y_train)"
   ]
  },
  {
   "cell_type": "markdown",
   "metadata": {},
   "source": [
    "### now we predict the output and calculate accuracy score. to calculate accuracy score we use accuracy_score function available with metrics "
   ]
  },
  {
   "cell_type": "code",
   "execution_count": 23,
   "metadata": {},
   "outputs": [
    {
     "name": "stdout",
     "output_type": "stream",
     "text": [
      "prediction :  [0.6628 0.6666 0.9262 0.656  0.799  0.7836 0.6032 0.7052 0.8834 0.8102\n",
      " 0.7802 0.6062 0.8466 0.8192 0.6384 0.788  0.8048 0.7044 0.6714 0.8342\n",
      " 0.8018 0.8192 0.8048 0.8116 0.6938 0.544  0.7052 0.8    0.7902 0.6964\n",
      " 0.6942 0.5582 0.795  0.6406 0.7282 0.926  0.7564 0.661  0.6532 0.8112\n",
      " 0.5492 0.6816 0.6628 0.789  0.538  0.7252 0.636  0.9112 0.576  0.8922\n",
      " 0.7708 0.6972 0.7896 0.5484 0.803  0.5468 0.6492 0.7754 0.663  0.64\n",
      " 0.688  0.6828 0.576  0.597  0.6574 0.676  0.9138 0.6858 0.7746 0.7786\n",
      " 0.7906 0.6898 0.9204 0.8806 0.9262 0.6928 0.6882 0.8046 0.8118 0.7766]\n",
      "accuracy :  0.6918239779460771\n"
     ]
    }
   ],
   "source": [
    "prediction = knn.predict(x_test)\n",
    "accuracy = metrics.r2_score(y_test,prediction)\n",
    "print(\"prediction : \",prediction)\n",
    "print(\"accuracy : \",accuracy)"
   ]
  },
  {
   "cell_type": "markdown",
   "metadata": {},
   "source": [
    "## now our model is ready to test "
   ]
  },
  {
   "cell_type": "markdown",
   "metadata": {},
   "source": [
    "### lets check : "
   ]
  },
  {
   "cell_type": "code",
   "execution_count": 24,
   "metadata": {},
   "outputs": [
    {
     "name": "stdout",
     "output_type": "stream",
     "text": [
      "actual value :  0.64\n",
      "predicted value :  0.6942\n"
     ]
    }
   ],
   "source": [
    "print(\"actual value : \",y[20])\n",
    "print(\"predicted value : \",knn.predict(x)[20])"
   ]
  },
  {
   "cell_type": "code",
   "execution_count": 25,
   "metadata": {},
   "outputs": [
    {
     "name": "stdout",
     "output_type": "stream",
     "text": [
      "actual value :  0.76\n",
      "predicted value :  0.6531999999999999\n"
     ]
    }
   ],
   "source": [
    "print(\"actual value : \",y[50])\n",
    "print(\"predicted value : \",knn.predict(x)[50])"
   ]
  },
  {
   "cell_type": "code",
   "execution_count": 26,
   "metadata": {},
   "outputs": [
    {
     "name": "stdout",
     "output_type": "stream",
     "text": [
      "actual value :  0.71\n",
      "predicted value :  0.7630000000000001\n"
     ]
    }
   ],
   "source": [
    "a = 100\n",
    "print(\"actual value : \",y[a])\n",
    "print(\"predicted value : \",knn.predict(x)[a])"
   ]
  },
  {
   "cell_type": "code",
   "execution_count": 27,
   "metadata": {},
   "outputs": [
    {
     "name": "stdout",
     "output_type": "stream",
     "text": [
      "actual value :  0.91\n",
      "predicted value :  0.8405999999999999\n"
     ]
    }
   ],
   "source": [
    "a = 234\n",
    "print(\"actual value : \",y[a])\n",
    "print(\"predicted value : \",knn.predict(x)[a])"
   ]
  },
  {
   "cell_type": "code",
   "execution_count": 41,
   "metadata": {},
   "outputs": [
    {
     "data": {
      "text/plain": [
       "[<matplotlib.lines.Line2D at 0x1b888bbef88>,\n",
       " <matplotlib.lines.Line2D at 0x1b888bc91c8>,\n",
       " <matplotlib.lines.Line2D at 0x1b888bc9388>,\n",
       " <matplotlib.lines.Line2D at 0x1b888bc9548>]"
      ]
     },
     "execution_count": 41,
     "metadata": {},
     "output_type": "execute_result"
    },
    {
     "data": {
      "image/png": "[encoded data removed]",
      "text/plain": [
       "<Figure size 432x288 with 1 Axes>"
      ]
     },
     "metadata": {
      "needs_background": "light"
     },
     "output_type": "display_data"
    }
   ],
   "source": [
    "plt.plot(x,y)"
   ]
  },
  {
   "cell_type": "code",
   "execution_count": 42,
   "metadata": {},
   "outputs": [
    {
     "data": {
      "text/plain": [
       "[<matplotlib.lines.Line2D at 0x1b888490a48>]"
      ]
     },
     "execution_count": 42,
     "metadata": {},
     "output_type": "execute_result"
    },
    {
     "data": {
      "image/png": "[encoded data removed]",
      "text/plain": [
       "<Figure size 432x288 with 1 Axes>"
      ]
     },
     "metadata": {
      "needs_background": "light"
     },
     "output_type": "display_data"
    }
   ],
   "source": [
    "plt.plot(y,knn.predict(x))"
   ]
  },
  {
   "cell_type": "markdown",
   "metadata": {},
   "source": [
    "## using SVM"
   ]
  },
  {
   "cell_type": "code",
   "execution_count": 28,
   "metadata": {},
   "outputs": [],
   "source": [
    "from sklearn import svm"
   ]
  },
  {
   "cell_type": "code",
   "execution_count": 31,
   "metadata": {},
   "outputs": [],
   "source": [
    "model = svm.SVR()\n"
   ]
  },
  {
   "cell_type": "code",
   "execution_count": 32,
   "metadata": {},
   "outputs": [
    {
     "name": "stdout",
     "output_type": "stream",
     "text": [
      "SVR(C=1.0, cache_size=200, coef0=0.0, degree=3, epsilon=0.1,\n",
      "    gamma='auto_deprecated', kernel='rbf', max_iter=-1, shrinking=True,\n",
      "    tol=0.001, verbose=False)\n"
     ]
    },
    {
     "name": "stderr",
     "output_type": "stream",
     "text": [
      "C:\\Users\\PRIYAMATE\\Anaconda3\\lib\\site-packages\\sklearn\\svm\\base.py:193: FutureWarning: The default value of gamma will change from 'auto' to 'scale' in version 0.22 to account better for unscaled features. Set gamma explicitly to 'auto' or 'scale' to avoid this warning.\n",
      "  \"avoid this warning.\", FutureWarning)\n"
     ]
    }
   ],
   "source": [
    "model.fit(x_train,y_train)\n",
    "print(model)"
   ]
  },
  {
   "cell_type": "code",
   "execution_count": 34,
   "metadata": {},
   "outputs": [],
   "source": [
    "predicted_value = model.predict(x_test)\n",
    "acc = metrics.r2_score(y_test,predicted_value)"
   ]
  },
  {
   "cell_type": "code",
   "execution_count": 35,
   "metadata": {},
   "outputs": [
    {
     "name": "stdout",
     "output_type": "stream",
     "text": [
      "predicted_value :  [0.63981497 0.65019772 0.82387851 0.66564146 0.77412697 0.78926871\n",
      " 0.58966618 0.64924977 0.84200322 0.74175304 0.70820979 0.67480233\n",
      " 0.7326882  0.76548871 0.6464056  0.73048401 0.79042576 0.73125817\n",
      " 0.65794388 0.73031746 0.71640231 0.76488462 0.79279003 0.77738568\n",
      " 0.6968422  0.69524964 0.71308498 0.72446543 0.79128329 0.66521699\n",
      " 0.63326425 0.48969125 0.78306418 0.55830896 0.71699825 0.85185382\n",
      " 0.76681874 0.65765414 0.64578261 0.73204294 0.67405581 0.66739844\n",
      " 0.65005276 0.75334945 0.4570528  0.74193083 0.62948755 0.80122279\n",
      " 0.64285326 0.8289344  0.69458802 0.635659   0.78317468 0.69525734\n",
      " 0.77911653 0.59509488 0.63158747 0.67751181 0.67240795 0.65047435\n",
      " 0.67440403 0.68707495 0.64443791 0.56867238 0.63626352 0.65842096\n",
      " 0.76686249 0.63908368 0.70687162 0.77866525 0.75459347 0.69527584\n",
      " 0.84482613 0.83003966 0.86880461 0.69672204 0.63747025 0.75031051\n",
      " 0.78299538 0.69462684]\n",
      "accuracy :  0.535905562716856\n"
     ]
    }
   ],
   "source": [
    "print(\"predicted_value : \",predicted_value)\n",
    "print(\"accuracy : \",acc)"
   ]
  },
  {
   "cell_type": "markdown",
   "metadata": {},
   "source": [
    "### lets check accuracy of model"
   ]
  },
  {
   "cell_type": "code",
   "execution_count": 53,
   "metadata": {},
   "outputs": [
    {
     "name": "stdout",
     "output_type": "stream",
     "text": [
      "actual value :  0.64\n",
      "predicted value :  0.6332642514268452\n"
     ]
    }
   ],
   "source": [
    "print(\"actual value : \",y[20])\n",
    "print(\"predicted value : \",model.predict(x)[20])"
   ]
  },
  {
   "cell_type": "code",
   "execution_count": 46,
   "metadata": {},
   "outputs": [
    {
     "name": "stdout",
     "output_type": "stream",
     "text": [
      "actual value :  0.76\n",
      "predicted value :  0.645782611248262\n"
     ]
    }
   ],
   "source": [
    "print(\"actual value : \",y[50])\n",
    "print(\"predicted value : \",model.predict(x)[50])"
   ]
  },
  {
   "cell_type": "code",
   "execution_count": 47,
   "metadata": {},
   "outputs": [
    {
     "name": "stdout",
     "output_type": "stream",
     "text": [
      "actual value :  0.71\n",
      "predicted value :  0.6332642514268452\n"
     ]
    }
   ],
   "source": [
    "a=100\n",
    "print(\"actual value : \",y[a])\n",
    "print(\"predicted value : \",model.predict(x)[20])"
   ]
  },
  {
   "cell_type": "markdown",
   "metadata": {},
   "source": [
    "# using linear regression"
   ]
  },
  {
   "cell_type": "code",
   "execution_count": 48,
   "metadata": {},
   "outputs": [],
   "source": [
    "from sklearn import linear_model"
   ]
  },
  {
   "cell_type": "code",
   "execution_count": 49,
   "metadata": {},
   "outputs": [],
   "source": [
    "l_reg = linear_model.LinearRegression()"
   ]
  },
  {
   "cell_type": "code",
   "execution_count": 50,
   "metadata": {},
   "outputs": [
    {
     "data": {
      "text/plain": [
       "<matplotlib.collections.PathCollection at 0x1b8889fcb88>"
      ]
     },
     "execution_count": 50,
     "metadata": {},
     "output_type": "execute_result"
    },
    {
     "data": {
      "image/png": "[encoded data removed]",
      "text/plain": [
       "<Figure size 432x288 with 1 Axes>"
      ]
     },
     "metadata": {
      "needs_background": "light"
     },
     "output_type": "display_data"
    }
   ],
   "source": [
    "plt.scatter(x.T[0],y)"
   ]
  },
  {
   "cell_type": "code",
   "execution_count": 51,
   "metadata": {},
   "outputs": [],
   "source": [
    "model_1 = l_reg.fit(x_train,y_train)\n",
    "pred = model_1.predict(x_test)"
   ]
  },
  {
   "cell_type": "code",
   "execution_count": 60,
   "metadata": {},
   "outputs": [
    {
     "name": "stdout",
     "output_type": "stream",
     "text": [
      "prediction : [0.62155464 0.73717845 0.9554839  0.6647636  0.85421932 0.78723709\n",
      " 0.58056906 0.71612128 0.88269307 0.87905139 0.78392478 0.62835313\n",
      " 0.91238244 0.8577411  0.48281401 0.77021277 0.83046459 0.74344121\n",
      " 0.60630058 0.85996996 0.76861277 0.85054515 0.83766053 0.82140564\n",
      " 0.57047237 0.49137184 0.7400956  0.71758152 0.8764668  0.70551335\n",
      " 0.62491878 0.46268161 0.78777069 0.57289134 0.7684758  0.93921889\n",
      " 0.78606703 0.62418707 0.65278286 0.82383555 0.54611284 0.65408147\n",
      " 0.60779773 0.78015094 0.51156219 0.69464324 0.62945364 0.90505034\n",
      " 0.55911738 0.88718851 0.75392752 0.67644886 0.76234707 0.49090018\n",
      " 0.80462727 0.55162365 0.62285938 0.77401821 0.670733   0.64819787\n",
      " 0.71119191 0.70236879 0.60229304 0.53188258 0.67173826 0.70495509\n",
      " 0.70620646 0.71920071 0.7381601  0.81636648 0.78176799 0.69591762\n",
      " 0.86367972 0.90511841 0.95302934 0.701349   0.56215126 0.82242102\n",
      " 0.85499887 0.75370181]\n",
      "R^2 value : 0.7913096956490926\n"
     ]
    }
   ],
   "source": [
    "print(\"prediction :\",pred)\n",
    "a_score = l_reg.score(x,y)\n",
    "print(\"R^2 value :\",a_score)"
   ]
  },
  {
   "cell_type": "markdown",
   "metadata": {},
   "source": [
    "### lets check accuracy of model"
   ]
  },
  {
   "cell_type": "code",
   "execution_count": 54,
   "metadata": {},
   "outputs": [
    {
     "name": "stdout",
     "output_type": "stream",
     "text": [
      "actual value :  0.64\n",
      "predicted value :  0.6249187796030795\n"
     ]
    }
   ],
   "source": [
    "print(\"actual value : \",y[20])\n",
    "print(\"predicted value : \",model_1.predict(x)[20])"
   ]
  },
  {
   "cell_type": "code",
   "execution_count": 55,
   "metadata": {},
   "outputs": [
    {
     "name": "stdout",
     "output_type": "stream",
     "text": [
      "actual value :  0.71\n",
      "predicted value :  0.7216839238951356\n"
     ]
    }
   ],
   "source": [
    "print(\"actual value : \",y[100])\n",
    "print(\"predicted value : \",model_1.predict(x)[100])"
   ]
  },
  {
   "cell_type": "code",
   "execution_count": 56,
   "metadata": {},
   "outputs": [
    {
     "name": "stdout",
     "output_type": "stream",
     "text": [
      "actual value :  0.74\n",
      "predicted value :  0.7762258511193274\n"
     ]
    }
   ],
   "source": [
    "print(\"actual value : \",y[350])\n",
    "print(\"predicted value : \",model.predict(x)[350])"
   ]
  },
  {
   "cell_type": "code",
   "execution_count": 59,
   "metadata": {},
   "outputs": [
    {
     "name": "stdout",
     "output_type": "stream",
     "text": [
      "actual value :  0.91\n",
      "predicted value :  0.8195631353467187\n"
     ]
    }
   ],
   "source": [
    "print(\"actual value : \",y[234])\n",
    "print(\"predicted value : \",model.predict(x)[234])"
   ]
  },
  {
   "cell_type": "markdown",
   "metadata": {},
   "source": [
    "## since linear regression algorithm gives more accuracy rate than SVC and KNN so it is more usefull algorithm for this project"
   ]
  },
  {
   "cell_type": "markdown",
   "metadata": {},
   "source": [
    "## comparing scores"
   ]
  },
  {
   "cell_type": "code",
   "execution_count": 61,
   "metadata": {},
   "outputs": [
    {
     "data": {
      "text/plain": [
       "Text(0, 0.5, 'Accuracy')"
      ]
     },
     "execution_count": 61,
     "metadata": {},
     "output_type": "execute_result"
    },
    {
     "data": {
      "image/png": "[encoded data removed]",
      "text/plain": [
       "<Figure size 576x432 with 1 Axes>"
      ]
     },
     "metadata": {
      "needs_background": "light"
     },
     "output_type": "display_data"
    }
   ],
   "source": [
    "import seaborn as sns\n",
    "\n",
    "methods = ['KNN','SVC','Linear Regression']\n",
    "scores = np.array([accuracy,acc,a_score])\n",
    "fig,ax = plt.subplots(figsize = (8,6))\n",
    "sns.barplot(x=methods,y=scores)\n",
    "plt.title('Algorithms Prediction Accuracies')\n",
    "plt.ylabel('Accuracy')"
   ]
  }
 ],
 "metadata": {
  "kernelspec": {
   "display_name": "Python 3",
   "language": "python",
   "name": "python3"
  },
  "language_info": {
   "codemirror_mode": {
    "name": "ipython",
    "version": 3
   },
   "file_extension": ".py",
   "mimetype": "text/x-python",
   "name": "python",
   "nbconvert_exporter": "python",
   "pygments_lexer": "ipython3",
   "version": "3.7.4"
  }
 },
 "nbformat": 4,
 "nbformat_minor": 2
}
